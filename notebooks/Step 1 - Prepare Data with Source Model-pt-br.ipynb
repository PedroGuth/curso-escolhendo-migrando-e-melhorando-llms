{
    "cells": [
     {
      "cell_type": "markdown",
      "metadata": {},
      "source": [
       "# 🚀 **Passo 1: Preparando os Dados e Definindo o Que Queremos**\n",
       "\n",
       "## **Aula 1.1: Entendendo o Problema**\n",
       "\n",
       "---\n",
       "\n",
       "### **Tá, mas o que é migração de modelo?**\n",
       "\n",
       "Imagina que você tem um funcionário super caro que faz um trabalho ótimo, mas tá pesando no bolso da empresa. Aí você descobre que tem outros candidatos que fazem o mesmo trabalho, às vezes até melhor, por um preço muito menor. É isso que a gente vai fazer aqui - só que em vez de funcionários, são modelos de IA! 😄\n",
       "\n",
       "**Por que migração de modelo é importante?**\n",
       "\n",
       "É como trocar de plano de celular: às vezes você paga caro por algo que nem usa tanto, e tem planos melhores por menos dinheiro. Com IA é a mesma coisa - modelos novos aparecem todo dia, e alguns são mais baratos e rápidos que os antigos.\n",
       "\n",
       "---\n",
       "\n",
       "**🖼️ Sugestão de imagem**: Um gráfico mostrando custos de diferentes modelos de IA\n",
       "\n",
       "### **Nosso Cenário de Negócio**\n",
       "\n",
       "Vamos simular uma situação real:\n",
       "\n",
       "- **Problema**: Uma empresa usa um modelo proprietário caro pra fazer resumos de documentos\n",
       "- **Dor**: O modelo é bom, mas tá custando uma fortuna pra rodar\n",
       "- **Solução**: Vamos testar modelos mais baratos do Amazon Bedrock\n",
       "\n",
       "### **Critérios de Sucesso**\n",
       "\n",
       "É como quando você vai comprar um carro - você tem uma lista do que quer:\n",
       "\n",
       "| Critério | O Que Queremos | Como Medir |\n",
       "|----------|----------------|------------|\n",
       "| **Qualidade** | Resumos tão bons quanto os atuais | IA avaliando os resumos |\n",
       "| **Velocidade** | Pelo menos tão rápido quanto | Cronômetro nas respostas |\n",
       "| **Custo** | Mais barato que o atual | Calculadora de preços |\n",
       "\n",
       "Vamos começar explorando nossos dados e analisando como o modelo atual tá performando!"
      ]
     },
     {
      "cell_type": "code",
      "execution_count": null,
      "metadata": {},
      "outputs": [],
      "source": [
       "# 🛠️ INSTALANDO AS FERRAMENTAS\n",
       "!pip install --upgrade numexpr"
      ]
     },
     {
      "cell_type": "markdown",
      "metadata": {},
      "source": [
       "### **Preparando o Dataset**\n",
       "\n",
       "#### **Sobre o Dataset**\n",
       "\n",
       "Um dataset de qualidade é fundamental pro sucesso da migração. É como ter uma régua boa pra medir - se a régua tá torta, todas as medidas vão dar errado!\n",
       "\n",
       "Vamos usar o dataset [EdinburghNLP/xsum](https://huggingface.co/datasets/EdinburghNLP/xsum), que é tipo um \"padrão ouro\" pra resumos. Ele tem notícias da BBC com resumos escritos por humanos - perfeito pra testar se nossos modelos conseguem fazer resumos tão bons quanto pessoas reais.\n",
       "\n",
       "Selecionamos 10 amostras representativas pra manter o workshop rápido e eficiente. Essas amostras representam vários tamanhos e níveis de complexidade pra dar uma avaliação robusta.\n",
       "\n",
       "> **💡 Dica do Pedro**: Se você tá rodando isso no seu ambiente, pode substituir por seu próprio dataset. Só certifique que tem as colunas `document` e `referenceResponse`. Se quiser ver como preprocessamos o dataset, dá uma olhada no arquivo `src/dataset.py`.\n",
       "\n",
       "Vamos dar uma olhada no que nossos dados parecem:"
      ]
     },
     {
      "cell_type": "code",
      "execution_count": null,
      "metadata": {},
      "outputs": [],
      "source": [
       "# �� DANDO UMA OLHADA NOS DADOS\n",
       "! head -5 ../data/document_sample_10.csv"
      ]
     },
     {
      "cell_type": "markdown",
      "metadata": {},
      "source": [
       "### **Análise do Modelo Fonte**\n",
       "\n",
       "#### **Medindo a Performance Atual**\n",
       "\n",
       "> **💡 Nota**: Num cenário real de migração, você coletaria essas métricas do seu sistema de produção. Se você tá construindo uma aplicação nova, pode não ter um modelo fonte pra comparar.\n",
       "\n",
       "Um passo crítico no processo de migração é estabelecer uma linha de base confiável pro seu modelo atual. É como marcar onde você tá antes de começar uma corrida - sem isso, como você vai saber se melhorou?\n",
       "\n",
       "Pra esse workshop, já geramos respostas do nosso modelo fonte hipotético usando o dataset.\n",
       "\n",
       "> **💡 Dica do Pedro**: Se quiser usar seu próprio modelo fonte (tipo GPT-4o-mini da OpenAI ou outro), pode gerar respostas seguindo o mesmo formato e substituir o arquivo CSV fornecido.\n",
       "\n",
       "Vamos examinar uma das respostas do modelo fonte pra entender suas características de performance:"
      ]
     },
     {
      "cell_type": "code",
      "execution_count": null,
      "metadata": {},
      "outputs": [],
      "source": [
       "# �� ANALISANDO O MODELO FONTE\n",
       "import pandas as pd\n",
       "import numpy as np\n",
       "import matplotlib.pyplot as plt\n",
       "import seaborn as sns\n",
       "\n",
       "# Configurando o visual\n",
       "plt.style.use('default')\n",
       "sns.set_palette(\"husl\")\n",
       "\n",
       "# Carregando os dados do modelo fonte\n",
       "source_model_data = pd.read_csv('../outputs/document_summarization_source_model.csv')\n",
       "\n",
       "print(\"📊 ESTATÍSTICAS DO MODELO FONTE:\")\n",
       "print(f\"�� Total de amostras: {len(source_model_data)}\")\n",
       "print(f\"⏱️ Latência média: {source_model_data['latency'].mean():.3f} segundos\")\n",
       "print(f\"💰 Custo médio: ${source_model_data['cost'].mean():.6f} por inferência\")\n",
       "print(f\"🔤 Tokens de entrada médios: {source_model_data['model_input_tokens'].mean():.1f}\")\n",
       "print(f\"🔤 Tokens de saída médios: {source_model_data['model_output_tokens'].mean():.1f}\")\n",
       "\n",
       "# Vamos dar uma olhada numa resposta específica\n",
       "print(\"\\n�� EXEMPLO DE RESPOSTA:\")\n",
       "sample_response = source_model_data.iloc[0]\n",
       "print(f\"Documento original: {sample_response['document'][:200]}...\")\n",
       "print(f\"Resumo gerado: {sample_response['model_response']}\")\n",
       "print(f\"Resumo de referência: {sample_response['referenceResponse']}\")"
      ]
     },
     {
      "cell_type": "markdown",
      "metadata": {},
      "source": [
       "### **Visualizando a Performance**\n",
       "\n",
       "Vamos criar alguns gráficos pra entender melhor como o modelo fonte tá performando:"
      ]
     },
     {
      "cell_type": "code",
      "execution_count": null,
      "metadata": {},
      "outputs": [],
      "source": [
       "# �� CRIANDO VISUALIZAÇÕES\n",
       "fig, axes = plt.subplots(2, 2, figsize=(15, 10))\n",
       "\n",
       "# Gráfico 1: Distribuição de latência\n",
       "axes[0, 0].hist(source_model_data['latency'], bins=20, alpha=0.7, color='skyblue')\n",
       "axes[0, 0].set_title('⏱️ Distribuição de Latência')\n",
       "axes[0, 0].set_xlabel('Latência (segundos)')\n",
       "axes[0, 0].set_ylabel('Frequência')\n",
       "\n",
       "# Gráfico 2: Distribuição de custos\n",
       "axes[0, 1].hist(source_model_data['cost'], bins=20, alpha=0.7, color='lightgreen')\n",
       "axes[0, 1].set_title('💰 Distribuição de Custos')\n",
       "axes[0, 1].set_xlabel('Custo por inferência ($)')\n",
       "axes[0, 1].set_ylabel('Frequência')\n",
       "\n",
       "# Gráfico 3: Tokens de entrada vs saída\n",
       "axes[1, 0].scatter(source_model_data['model_input_tokens'], \n",
       "                   source_model_data['model_output_tokens'], \n",
       "                   alpha=0.6, color='orange')\n",
       "axes[1, 0].set_title('🔤 Tokens de Entrada vs Saída')\n",
       "axes[1, 0].set_xlabel('Tokens de Entrada')\n",
       "axes[1, 0].set_ylabel('Tokens de Saída')\n",
       "\n",
       "# Gráfico 4: Latência vs custo\n",
       "axes[1, 1].scatter(source_model_data['latency'], \n",
       "                   source_model_data['cost'], \n",
       "                   alpha=0.6, color='purple')\n",
       "axes[1, 1].set_title('⏱️ Latência vs Custo')\n",
       "axes[1, 1].set_xlabel('Latência (segundos)')\n",
       "axes[1, 1].set_ylabel('Custo ($)')\n",
       "\n",
       "plt.tight_layout()\n",
       "plt.show()\n",
       "\n",
       "print(\"\\n💡 O que esses gráficos nos dizem?\")\n",
       "print(\"• A latência varia bastante - alguns documentos são mais complexos que outros\")\n",
       "print(\"• O custo tá relacionado com a quantidade de tokens\")\n",
       "print(\"• Documentos maiores geram resumos maiores (faz sentido!)\")"
      ]
     },
     {
      "cell_type": "markdown",
      "metadata": {},
      "source": [
       "### **Definindo Nossos Critérios de Sucesso**\n",
       "\n",
       "Agora que entendemos como o modelo fonte tá performando, vamos definir o que significa \"sucesso\" pra nossa migração. É como definir as regras de um jogo - todo mundo precisa saber o que é vitória!\n",
       "\n",
       "Vamos criar um dataframe de tracking que vai acompanhar todas as nossas avaliações:"
      ]
     },
     {
      "cell_type": "code",
      "execution_count": null,
      "metadata": {},
      "outputs": [],
      "source": [
       "# �� CRIANDO NOSSO SISTEMA DE TRACKING\n",
       "import pandas as pd\n",
       "from datetime import datetime\n",
       "\n",
       "# Definindo os modelos que vamos testar\n",
       "models_to_evaluate = [\n",
       "    'source_model',  # Nosso baseline\n",
       "    'amazon.nova-lite-v1:0',  # Modelo da Amazon (barato e rápido)\n",
       "    'us.anthropic.claude-3-5-haiku-20241022-v1:0'  # Claude Haiku (bom custo-benefício)\n",
       "]\n",
       "\n",
       "# Criando o dataframe de tracking\n",
       "evaluation_tracking = pd.DataFrame({\n",
       "    'model': models_to_evaluate,\n",
       "    'region': 'us-east-1',  # Região da AWS\n",
       "    'inference_profile': 'standard',  # Perfil de inferência\n",
       "    'text_prompt': '',  # Vamos preencher isso no próximo passo\n",
       "    'quality_evaluation_jobArn': '',  # Vamos preencher isso depois\n",
       "    'quality_evaluation_output': ''  # Vamos preencher isso depois\n",
       "})\n",
       "\n",
       "print(\"📊 NOSSO PLANO DE AVALIAÇÃO:\")\n",
       "print(evaluation_tracking)\n",
       "\n",
       "# Salvando o tracking\n",
       "evaluation_tracking.to_csv('../data/evaluation_tracking.csv', index=False)\n",
       "print(\"\\n✅ Tracking salvo! Vamos usar isso pra acompanhar todo o processo.\")"
      ]
     },
     {
      "cell_type": "markdown",
      "metadata": {},
      "source": [
       "### **Resumo do Passo 1**\n",
       "\n",
       "�� **Parabéns!** Você acabou de completar o primeiro passo da nossa jornada de migração. Vamos recapitular o que fizemos:\n",
       "\n",
       "✅ **Entendemos o problema**: Modelo caro que precisa ser substituído\n",
       "✅ **Analisamos os dados**: Dataset de qualidade pra testar\n",
       "✅ **Estabelecemos baseline**: Performance atual do modelo fonte\n",
       "✅ **Definimos critérios**: O que significa sucesso\n",
       "✅ **Criamos tracking**: Sistema pra acompanhar tudo\n",
       "\n",
       "### **O Que Vem no Próximo Passo**\n",
       "\n",
       "No próximo notebook, vamos fazer algo super legal: **otimizar prompts**! É como ensinar cada modelo a falar da melhor forma possível. Diferentes modelos respondem melhor a diferentes tipos de instruções, então vamos usar o Amazon Bedrock Prompt Optimizer pra fazer essa mágica acontecer.\n",
       "\n",
       "---\n",
       "\n",
       "**�� Dica do Pedro**: Lembre-se, migração de modelo não é só trocar um pelo outro - é um processo cuidadoso que precisa de dados, métricas e muito teste!\n",
       "\n",
       "**🚀 Próximo passo**: Otimização de prompts com Bedrock Prompt Optimizer"
      ]
     }
    ],
    "metadata": {
     "kernelspec": {
      "display_name": "Python 3",
      "language": "python",
      "name": "python3"
     },
     "language_info": {
      "codemirror_mode": {
       "name": "ipython",
       "version": 3
      },
      "file_extension": ".py",
      "mimetype": "text/x-python",
      "name": "python",
      "nbconvert_exporter": "python",
      "pygments_lexer": "ipython3",
      "version": "3.8.5"
     }
    },
    "nbformat": 4,
    "nbformat_minor": 4
   }